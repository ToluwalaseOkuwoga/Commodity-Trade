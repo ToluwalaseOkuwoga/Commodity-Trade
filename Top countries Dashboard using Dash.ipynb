{
 "cells": [
  {
   "cell_type": "code",
   "execution_count": 1,
   "metadata": {},
   "outputs": [],
   "source": [
    "import pandas as pd\n",
    "import numpy as np\n",
    "import plotly.express as px\n",
    "import plotly.graph_objs as go\n",
    "import dash\n",
    "import dash_core_components as dcc\n",
    "import dash_html_components as html\n",
    "from dash.dependencies import Input, Output\n",
    "from jupyter_dash import JupyterDash\n",
    "import dash_table"
   ]
  },
  {
   "cell_type": "code",
   "execution_count": 2,
   "metadata": {},
   "outputs": [],
   "source": [
    "df = pd.read_csv(\"Top_Countries.csv\")"
   ]
  },
  {
   "cell_type": "code",
   "execution_count": 3,
   "metadata": {},
   "outputs": [
    {
     "data": {
      "text/html": [
       "<div>\n",
       "<style scoped>\n",
       "    .dataframe tbody tr th:only-of-type {\n",
       "        vertical-align: middle;\n",
       "    }\n",
       "\n",
       "    .dataframe tbody tr th {\n",
       "        vertical-align: top;\n",
       "    }\n",
       "\n",
       "    .dataframe thead th {\n",
       "        text-align: right;\n",
       "    }\n",
       "</style>\n",
       "<table border=\"1\" class=\"dataframe\">\n",
       "  <thead>\n",
       "    <tr style=\"text-align: right;\">\n",
       "      <th></th>\n",
       "      <th>id</th>\n",
       "      <th>country</th>\n",
       "      <th>iso_alpha</th>\n",
       "      <th>weight_kg</th>\n",
       "      <th>trade_usd</th>\n",
       "    </tr>\n",
       "  </thead>\n",
       "  <tbody>\n",
       "    <tr>\n",
       "      <th>0</th>\n",
       "      <td>CHN</td>\n",
       "      <td>China</td>\n",
       "      <td>CHN</td>\n",
       "      <td>5.290000e+13</td>\n",
       "      <td>9.140000e+13</td>\n",
       "    </tr>\n",
       "    <tr>\n",
       "      <th>1</th>\n",
       "      <td>USA</td>\n",
       "      <td>United States of America</td>\n",
       "      <td>USA</td>\n",
       "      <td>5.750000e+12</td>\n",
       "      <td>7.330000e+13</td>\n",
       "    </tr>\n",
       "    <tr>\n",
       "      <th>2</th>\n",
       "      <td>DEU</td>\n",
       "      <td>Germany</td>\n",
       "      <td>DEU</td>\n",
       "      <td>1.320000e+13</td>\n",
       "      <td>5.870000e+13</td>\n",
       "    </tr>\n",
       "    <tr>\n",
       "      <th>3</th>\n",
       "      <td>JPN</td>\n",
       "      <td>Japan</td>\n",
       "      <td>JPN</td>\n",
       "      <td>1.990000e+13</td>\n",
       "      <td>3.720000e+13</td>\n",
       "    </tr>\n",
       "    <tr>\n",
       "      <th>4</th>\n",
       "      <td>FRA</td>\n",
       "      <td>France</td>\n",
       "      <td>FRA</td>\n",
       "      <td>8.280000e+12</td>\n",
       "      <td>2.940000e+13</td>\n",
       "    </tr>\n",
       "  </tbody>\n",
       "</table>\n",
       "</div>"
      ],
      "text/plain": [
       "    id                   country iso_alpha     weight_kg     trade_usd\n",
       "0  CHN                     China       CHN  5.290000e+13  9.140000e+13\n",
       "1  USA  United States of America       USA  5.750000e+12  7.330000e+13\n",
       "2  DEU                   Germany       DEU  1.320000e+13  5.870000e+13\n",
       "3  JPN                     Japan       JPN  1.990000e+13  3.720000e+13\n",
       "4  FRA                    France       FRA  8.280000e+12  2.940000e+13"
      ]
     },
     "execution_count": 3,
     "metadata": {},
     "output_type": "execute_result"
    }
   ],
   "source": [
    "df.head()"
   ]
  },
  {
   "cell_type": "code",
   "execution_count": 4,
   "metadata": {},
   "outputs": [
    {
     "name": "stdout",
     "output_type": "stream",
     "text": [
      "Index(['id', 'country', 'iso_alpha', 'weight_kg', 'trade_usd'], dtype='object')\n"
     ]
    }
   ],
   "source": [
    "df['id'] = df['iso_alpha']\n",
    "df.set_index('id', inplace=True, drop=False)\n",
    "print(df.columns)"
   ]
  },
  {
   "cell_type": "code",
   "execution_count": 5,
   "metadata": {},
   "outputs": [],
   "source": [
    "# App layout\n",
    "app = JupyterDash(__name__, prevent_initial_callbacks=True)"
   ]
  },
  {
   "cell_type": "code",
   "execution_count": 6,
   "metadata": {},
   "outputs": [],
   "source": [
    "app.layout = html.Div(children=[\n",
    "    html.H3(children='Countries dominating World Trade',style={\n",
    "            'textAlign': 'center',\n",
    "            'color': '#3300D9'\n",
    "        }),\n",
    "    dash_table.DataTable(\n",
    "        id='datatable-interactivity',\n",
    "        columns=[\n",
    "            {\"name\": i, \"id\": i, \"deletable\": True, \"selectable\": True, \"hideable\": True}\n",
    "            if i == \"iso_alpha\" or i == \"id\"\n",
    "            else {\"name\": i, \"id\": i, \"deletable\": True, \"selectable\": True}\n",
    "            for i in df.columns\n",
    "        ],\n",
    "        data=df.to_dict('records'),  # the contents of the table\n",
    "        editable=True,              # allow editing of data inside all cells\n",
    "        filter_action=\"native\",     # allow filtering of data by user ('native') or not ('none')\n",
    "        sort_action=\"native\",       # enables data to be sorted per-column by user or not ('none')\n",
    "        sort_mode=\"single\",         # sort across 'multi' or 'single' columns\n",
    "        column_selectable=\"multi\",  # allow users to select 'multi' or 'single' columns\n",
    "        row_selectable=\"multi\",     # allow users to select 'multi' or 'single' rows\n",
    "        row_deletable=True,         # choose if user can delete a row (True) or not (False)\n",
    "        selected_columns=[],        # ids of columns that user selects\n",
    "        selected_rows=[],           # indices of rows that user selects\n",
    "        page_action=\"native\",       # all data is passed to the table up-front or not ('none')\n",
    "        page_current=0,             # page number that user is on\n",
    "        page_size=6,                # number of rows visible per page\n",
    "        style_cell={                # ensure adequate header width when text is shorter than cell's text\n",
    "            'minWidth': 95, 'maxWidth': 95, 'width': 95\n",
    "        },\n",
    "        style_cell_conditional=[    # align text columns to left. By default they are aligned to right\n",
    "            {\n",
    "                'if': {'column_id': c},\n",
    "                'textAlign': 'left'\n",
    "            } for c in ['country']\n",
    "        ],\n",
    "        style_data={                # overflow cells' content into multiple lines\n",
    "            'whiteSpace': 'normal',\n",
    "            'height': 'auto'\n",
    "        }\n",
    "    ),\n",
    "    \n",
    "    html.Br(),\n",
    "    html.Br(),\n",
    "    html.Div(id='bar-container'),\n",
    "    html.Div(id='choromap-container')\n",
    "\n",
    "])\n"
   ]
  },
  {
   "cell_type": "code",
   "execution_count": 7,
   "metadata": {},
   "outputs": [],
   "source": [
    "# Create bar chart\n",
    "@app.callback(\n",
    "    Output(component_id='bar-container', component_property='children'),\n",
    "    [Input(component_id='datatable-interactivity', component_property=\"derived_virtual_data\"),\n",
    "     Input(component_id='datatable-interactivity', component_property='derived_virtual_selected_rows'),\n",
    "     Input(component_id='datatable-interactivity', component_property='derived_virtual_selected_row_ids'),\n",
    "     Input(component_id='datatable-interactivity', component_property='selected_rows'),\n",
    "     Input(component_id='datatable-interactivity', component_property='derived_virtual_indices'),\n",
    "     Input(component_id='datatable-interactivity', component_property='derived_virtual_row_ids'),\n",
    "     Input(component_id='datatable-interactivity', component_property='active_cell'),\n",
    "     Input(component_id='datatable-interactivity', component_property='selected_cells')]\n",
    ")\n",
    "def update_bar(all_rows_data, slctd_row_indices, slct_rows_names, slctd_rows,\n",
    "               order_of_rows_indices, order_of_rows_names, actv_cell, slctd_cell):\n",
    "    print('***************************************************************************')\n",
    "    print('Data across all pages pre or post filtering: {}'.format(all_rows_data))\n",
    "    print('---------------------------------------------')\n",
    "    print(\"Indices of selected rows if part of table after filtering:{}\".format(slctd_row_indices))\n",
    "    print(\"Names of selected rows if part of table after filtering: {}\".format(slct_rows_names))\n",
    "    print(\"Indices of selected rows regardless of filtering results: {}\".format(slctd_rows))\n",
    "    print('---------------------------------------------')\n",
    "    print(\"Indices of all rows pre or post filtering: {}\".format(order_of_rows_indices))\n",
    "    print(\"Names of all rows pre or post filtering: {}\".format(order_of_rows_names))\n",
    "    print(\"---------------------------------------------\")\n",
    "    print(\"Complete data of active cell: {}\".format(actv_cell))\n",
    "    print(\"Complete data of all selected cells: {}\".format(slctd_cell))\n",
    "\n",
    "    dff = pd.DataFrame(all_rows_data)\n",
    "\n",
    "    # used to highlight selected countries on bar chart\n",
    "    colors = ['#7FDBFF' if i in slctd_row_indices else '#D99800'\n",
    "              for i in range(len(dff))]\n",
    "\n",
    "    if \"country\" in dff and \"trade_usd\" in dff:\n",
    "        return [\n",
    "            dcc.Graph(id='bar-chart',\n",
    "                      figure=px.bar(\n",
    "                          data_frame=dff,\n",
    "                          x=\"country\",\n",
    "                          y='trade_usd',\n",
    "                          labels={\"trade_usd\": \"Total amount traded\"}\n",
    "                      ).update_layout(showlegend=False, xaxis={'categoryorder': 'total ascending'})\n",
    "                      .update_traces(marker_color=colors, hovertemplate=\"<b>%{y}%</b><extra></extra>\")\n",
    "                      )\n",
    "        ]\n"
   ]
  },
  {
   "cell_type": "code",
   "execution_count": 8,
   "metadata": {},
   "outputs": [],
   "source": [
    "# Create choropleth map\n",
    "@app.callback(\n",
    "    Output(component_id='choromap-container', component_property='children'),\n",
    "    [Input(component_id='datatable-interactivity', component_property=\"derived_virtual_data\"),\n",
    "     Input(component_id='datatable-interactivity', component_property='derived_virtual_selected_rows')]\n",
    ")\n",
    "def update_map(all_rows_data, slctd_row_indices):\n",
    "    dff = pd.DataFrame(all_rows_data)\n",
    "\n",
    "    # highlight selected countries on map\n",
    "    borders = [5 if i in slctd_row_indices else 1\n",
    "               for i in range(len(dff))]\n",
    "\n",
    "    if \"iso_alpha\" in dff and \"trade_usd\" in dff and \"country\" in dff:\n",
    "        return [\n",
    "            dcc.Graph(id='choropleth',\n",
    "                      style={'height': 700},\n",
    "                      figure=px.choropleth(\n",
    "                          data_frame=dff,\n",
    "                          locations=\"iso_alpha\",\n",
    "                          scope=\"world\",\n",
    "                          color=\"trade_usd\",\n",
    "                          title=\"Total amount traded\",\n",
    "                          template='plotly_dark',\n",
    "                          hover_data=['country', 'trade_usd'],\n",
    "                      ).update_layout(showlegend=False, title=dict(font=dict(size=28), x=0.5, xanchor='center'))\n",
    "                      .update_traces(marker_line_width=borders, hovertemplate=\"<b>%{customdata[0]}</b><br><br>\" +\n",
    "                                                                              \"%{customdata[1]}\")\n",
    "                      )\n",
    "        ]"
   ]
  },
  {
   "cell_type": "code",
   "execution_count": 9,
   "metadata": {},
   "outputs": [],
   "source": [
    "# Highlight selected column\n",
    "@app.callback(\n",
    "    Output('datatable-interactivity', 'style_data_conditional'),\n",
    "    [Input('datatable-interactivity', 'selected_columns')]\n",
    ")\n",
    "def update_styles(selected_columns):\n",
    "    return [{\n",
    "        'if': {'column_id': i},\n",
    "        'background_color': '#D2F3FF'\n",
    "    } for i in selected_columns]"
   ]
  },
  {
   "cell_type": "code",
   "execution_count": 10,
   "metadata": {},
   "outputs": [
    {
     "data": {
      "text/html": [
       "\n",
       "        <iframe\n",
       "            width=\"800\"\n",
       "            height=\"650\"\n",
       "            src=\"http://127.0.0.1:8050/\"\n",
       "            frameborder=\"0\"\n",
       "            allowfullscreen\n",
       "        ></iframe>\n",
       "        "
      ],
      "text/plain": [
       "<IPython.lib.display.IFrame at 0x2cba2f17fc8>"
      ]
     },
     "metadata": {},
     "output_type": "display_data"
    },
    {
     "name": "stdout",
     "output_type": "stream",
     "text": [
      "***************************************************************************\n",
      "Data across all pages pre or post filtering: [{'id': 'CHN', 'country': 'China', 'iso_alpha': 'CHN', 'weight_kg': 52900000000000, 'trade_usd': 91400000000000}, {'id': 'USA', 'country': 'United States of America', 'iso_alpha': 'USA', 'weight_kg': 5750000000000, 'trade_usd': 73300000000000}, {'id': 'DEU', 'country': 'Germany', 'iso_alpha': 'DEU', 'weight_kg': 13200000000000, 'trade_usd': 58700000000000}, {'id': 'JPN', 'country': 'Japan', 'iso_alpha': 'JPN', 'weight_kg': 19900000000000, 'trade_usd': 37200000000000}, {'id': 'FRA', 'country': 'France', 'iso_alpha': 'FRA', 'weight_kg': 8280000000000, 'trade_usd': 29400000000000}, {'id': 'CAN', 'country': 'Canada', 'iso_alpha': 'CAN', 'weight_kg': 12900000000000, 'trade_usd': 27600000000000}, {'id': 'BEL', 'country': 'Belgium', 'iso_alpha': 'BEL', 'weight_kg': 8780000000000, 'trade_usd': 23500000000000}, {'id': 'GBR', 'country': 'United Kingdom', 'iso_alpha': 'GBR', 'weight_kg': 1070000000000, 'trade_usd': 22900000000000}, {'id': 'ITA', 'country': 'Italy', 'iso_alpha': 'ITA', 'weight_kg': 5970000000000, 'trade_usd': 22600000000000}, {'id': 'NLD', 'country': 'Netherlands', 'iso_alpha': 'NLD', 'weight_kg': 2250000000000, 'trade_usd': 19100000000000}, {'id': 'PRK', 'country': 'South Korea', 'iso_alpha': 'PRK', 'weight_kg': 2650000000000, 'trade_usd': 16200000000000}, {'id': 'MEX', 'country': 'Mexico', 'iso_alpha': 'MEX', 'weight_kg': 5610000000000, 'trade_usd': 13000000000000}, {'id': 'IND', 'country': 'India', 'iso_alpha': 'IND', 'weight_kg': 10400000000000, 'trade_usd': 12900000000000}, {'id': 'AUS', 'country': 'Australia', 'iso_alpha': 'AUS', 'weight_kg': 19900000000000, 'trade_usd': 12900000000000}, {'id': 'SGP', 'country': 'Singapore', 'iso_alpha': 'SGP', 'weight_kg': 204000000000, 'trade_usd': 12100000000000}, {'id': 'ESP', 'country': 'Spain', 'iso_alpha': 'ESP', 'weight_kg': 1200000000000, 'trade_usd': 11900000000000}, {'id': 'BRA', 'country': 'Brazil', 'iso_alpha': 'BRA', 'weight_kg': 12500000000000, 'trade_usd': 10300000000000}, {'id': 'RUS', 'country': 'Russia', 'iso_alpha': 'RUS', 'weight_kg': 2000000000000, 'trade_usd': 10200000000000}, {'id': 'ARE', 'country': 'United Arab Emirates', 'iso_alpha': 'ARE', 'weight_kg': 134000000000, 'trade_usd': 10100000000000}, {'id': 'AUT', 'country': 'Austria', 'iso_alpha': 'AUT', 'weight_kg': 2540000000000, 'trade_usd': 9060000000000}]\n",
      "---------------------------------------------\n",
      "Indices of selected rows if part of table after filtering:[]\n",
      "Names of selected rows if part of table after filtering: []\n",
      "Indices of selected rows regardless of filtering results: []\n",
      "---------------------------------------------\n",
      "Indices of all rows pre or post filtering: [0, 1, 2, 3, 4, 5, 6, 7, 8, 9, 10, 11, 12, 13, 14, 15, 16, 17, 18, 19]\n",
      "Names of all rows pre or post filtering: ['CHN', 'USA', 'DEU', 'JPN', 'FRA', 'CAN', 'BEL', 'GBR', 'ITA', 'NLD', 'PRK', 'MEX', 'IND', 'AUS', 'SGP', 'ESP', 'BRA', 'RUS', 'ARE', 'AUT']\n",
      "---------------------------------------------\n",
      "Complete data of active cell: None\n",
      "Complete data of all selected cells: None\n"
     ]
    }
   ],
   "source": [
    "app.run_server(mode='inline')"
   ]
  },
  {
   "cell_type": "code",
   "execution_count": null,
   "metadata": {},
   "outputs": [],
   "source": []
  }
 ],
 "metadata": {
  "kernelspec": {
   "display_name": "Python 3",
   "language": "python",
   "name": "python3"
  },
  "language_info": {
   "codemirror_mode": {
    "name": "ipython",
    "version": 3
   },
   "file_extension": ".py",
   "mimetype": "text/x-python",
   "name": "python",
   "nbconvert_exporter": "python",
   "pygments_lexer": "ipython3",
   "version": "3.7.6"
  }
 },
 "nbformat": 4,
 "nbformat_minor": 4
}
